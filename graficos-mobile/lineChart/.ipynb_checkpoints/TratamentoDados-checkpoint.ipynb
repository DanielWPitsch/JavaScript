{
 "cells": [
  {
   "cell_type": "code",
   "execution_count": 1,
   "id": "f1bfa56d",
   "metadata": {},
   "outputs": [],
   "source": [
    "#!pip install pandas"
   ]
  },
  {
   "cell_type": "code",
   "execution_count": 1,
   "id": "56fa3127",
   "metadata": {},
   "outputs": [],
   "source": [
    "import pandas as pd"
   ]
  },
  {
   "cell_type": "code",
   "execution_count": 34,
   "id": "b521eff3",
   "metadata": {},
   "outputs": [],
   "source": [
    "#para ler a planilha excel que esteja de acordo\n",
    "dados = pd.read_excel(\"./planilhas/wfa_girls_0-to-5-years_zscores.xlsx\")\n",
    "#dados2 = pd.read_excel(\"./dados/bmi_girls_2-to-5-years_zscores.xlsx\")"
   ]
  },
  {
   "cell_type": "code",
   "execution_count": 35,
   "id": "6ed364d7",
   "metadata": {},
   "outputs": [
    {
     "data": {
      "text/plain": [
       "Index(['SD3neg', 'SD2neg', 'SD1neg', 'SD0', 'SD1', 'SD2', 'SD3'], dtype='object')"
      ]
     },
     "execution_count": 35,
     "metadata": {},
     "output_type": "execute_result"
    }
   ],
   "source": [
    "#rodar esse só quando forem 2 planilhas para juntar\n",
    "#dados = pd.concat([dados, dados2], sort=False)\n",
    "\n",
    "titulos = dados.columns[4:]  # 5: para altura e peso 4: para imc e perimetro\n",
    "titulos"
   ]
  },
  {
   "cell_type": "code",
   "execution_count": 37,
   "id": "a0cc9bb1",
   "metadata": {
    "scrolled": true
   },
   "outputs": [
    {
     "name": "stdout",
     "output_type": "stream",
     "text": [
      "const PesoGirlsNeg3 =\n",
      "[\n",
      "{ x: 0, y: 2.0 },{ x: 1, y: 2.7 },{ x: 2, y: 3.4 },{ x: 3, y: 4.0 },\n",
      "{ x: 4, y: 4.4 },{ x: 5, y: 4.8 },{ x: 6, y: 5.1 },{ x: 7, y: 5.3 },\n",
      "{ x: 8, y: 5.6 },{ x: 9, y: 5.8 },{ x: 10, y: 5.9 },{ x: 11, y: 6.1 },\n",
      "{ x: 12, y: 6.3 },{ x: 13, y: 6.4 },{ x: 14, y: 6.6 },{ x: 15, y: 6.7 },\n",
      "{ x: 16, y: 6.9 },{ x: 17, y: 7.0 },{ x: 18, y: 7.2 },{ x: 19, y: 7.3 },\n",
      "{ x: 20, y: 7.5 },{ x: 21, y: 7.6 },{ x: 22, y: 7.8 },{ x: 23, y: 7.9 },\n",
      "{ x: 24, y: 8.1 },{ x: 25, y: 8.2 },{ x: 26, y: 8.4 },{ x: 27, y: 8.5 },\n",
      "{ x: 28, y: 8.6 },{ x: 29, y: 8.8 },{ x: 30, y: 8.9 },{ x: 31, y: 9.0 },\n",
      "{ x: 32, y: 9.1 },{ x: 33, y: 9.3 },{ x: 34, y: 9.4 },{ x: 35, y: 9.5 },\n",
      "{ x: 36, y: 9.6 },{ x: 37, y: 9.7 },{ x: 38, y: 9.8 },{ x: 39, y: 9.9 },\n",
      "{ x: 40, y: 10.1 },{ x: 41, y: 10.2 },{ x: 42, y: 10.3 },\n",
      " ] \n",
      "\n",
      "const PesoGirlsNeg2 =\n",
      "[\n",
      "{ x: 0, y: 2.4 },{ x: 1, y: 3.2 },{ x: 2, y: 3.9 },{ x: 3, y: 4.5 },\n",
      "{ x: 4, y: 5.0 },{ x: 5, y: 5.4 },{ x: 6, y: 5.7 },{ x: 7, y: 6.0 },\n",
      "{ x: 8, y: 6.3 },{ x: 9, y: 6.5 },{ x: 10, y: 6.7 },{ x: 11, y: 6.9 },\n",
      "{ x: 12, y: 7.0 },{ x: 13, y: 7.2 },{ x: 14, y: 7.4 },{ x: 15, y: 7.6 },\n",
      "{ x: 16, y: 7.7 },{ x: 17, y: 7.9 },{ x: 18, y: 8.1 },{ x: 19, y: 8.2 },\n",
      "{ x: 20, y: 8.4 },{ x: 21, y: 8.6 },{ x: 22, y: 8.7 },{ x: 23, y: 8.9 },\n",
      "{ x: 24, y: 9.0 },{ x: 25, y: 9.2 },{ x: 26, y: 9.4 },{ x: 27, y: 9.5 },\n",
      "{ x: 28, y: 9.7 },{ x: 29, y: 9.8 },{ x: 30, y: 10.0 },{ x: 31, y: 10.1 },\n",
      "{ x: 32, y: 10.3 },{ x: 33, y: 10.4 },{ x: 34, y: 10.5 },{ x: 35, y: 10.7 },\n",
      "{ x: 36, y: 10.8 },{ x: 37, y: 10.9 },{ x: 38, y: 11.1 },{ x: 39, y: 11.2 },\n",
      "{ x: 40, y: 11.3 },{ x: 41, y: 11.5 },{ x: 42, y: 11.6 },\n",
      " ] \n",
      "\n",
      "const PesoGirlsNeg1 =\n",
      "[\n",
      "{ x: 0, y: 2.8 },{ x: 1, y: 3.6 },{ x: 2, y: 4.5 },{ x: 3, y: 5.2 },\n",
      "{ x: 4, y: 5.7 },{ x: 5, y: 6.1 },{ x: 6, y: 6.5 },{ x: 7, y: 6.8 },\n",
      "{ x: 8, y: 7.0 },{ x: 9, y: 7.3 },{ x: 10, y: 7.5 },{ x: 11, y: 7.7 },\n",
      "{ x: 12, y: 7.9 },{ x: 13, y: 8.1 },{ x: 14, y: 8.3 },{ x: 15, y: 8.5 },\n",
      "{ x: 16, y: 8.7 },{ x: 17, y: 8.9 },{ x: 18, y: 9.1 },{ x: 19, y: 9.2 },\n",
      "{ x: 20, y: 9.4 },{ x: 21, y: 9.6 },{ x: 22, y: 9.8 },{ x: 23, y: 10.0 },\n",
      "{ x: 24, y: 10.2 },{ x: 25, y: 10.3 },{ x: 26, y: 10.5 },{ x: 27, y: 10.7 },\n",
      "{ x: 28, y: 10.9 },{ x: 29, y: 11.1 },{ x: 30, y: 11.2 },{ x: 31, y: 11.4 },\n",
      "{ x: 32, y: 11.6 },{ x: 33, y: 11.7 },{ x: 34, y: 11.9 },{ x: 35, y: 12.0 },\n",
      "{ x: 36, y: 12.2 },{ x: 37, y: 12.4 },{ x: 38, y: 12.5 },{ x: 39, y: 12.7 },\n",
      "{ x: 40, y: 12.8 },{ x: 41, y: 13.0 },{ x: 42, y: 13.1 },\n",
      " ] \n",
      "\n",
      "const PesoGirls0 =\n",
      "[\n",
      "{ x: 0, y: 3.2 },{ x: 1, y: 4.2 },{ x: 2, y: 5.1 },{ x: 3, y: 5.8 },\n",
      "{ x: 4, y: 6.4 },{ x: 5, y: 6.9 },{ x: 6, y: 7.3 },{ x: 7, y: 7.6 },\n",
      "{ x: 8, y: 7.9 },{ x: 9, y: 8.2 },{ x: 10, y: 8.5 },{ x: 11, y: 8.7 },\n",
      "{ x: 12, y: 8.9 },{ x: 13, y: 9.2 },{ x: 14, y: 9.4 },{ x: 15, y: 9.6 },\n",
      "{ x: 16, y: 9.8 },{ x: 17, y: 10.0 },{ x: 18, y: 10.2 },{ x: 19, y: 10.4 },\n",
      "{ x: 20, y: 10.6 },{ x: 21, y: 10.9 },{ x: 22, y: 11.1 },{ x: 23, y: 11.3 },\n",
      "{ x: 24, y: 11.5 },{ x: 25, y: 11.7 },{ x: 26, y: 11.9 },{ x: 27, y: 12.1 },\n",
      "{ x: 28, y: 12.3 },{ x: 29, y: 12.5 },{ x: 30, y: 12.7 },{ x: 31, y: 12.9 },\n",
      "{ x: 32, y: 13.1 },{ x: 33, y: 13.3 },{ x: 34, y: 13.5 },{ x: 35, y: 13.7 },\n",
      "{ x: 36, y: 13.9 },{ x: 37, y: 14.0 },{ x: 38, y: 14.2 },{ x: 39, y: 14.4 },\n",
      "{ x: 40, y: 14.6 },{ x: 41, y: 14.8 },{ x: 42, y: 15.0 },\n",
      " ] \n",
      "\n",
      "const PesoGirls1 =\n",
      "[\n",
      "{ x: 0, y: 3.7 },{ x: 1, y: 4.8 },{ x: 2, y: 5.8 },{ x: 3, y: 6.6 },\n",
      "{ x: 4, y: 7.3 },{ x: 5, y: 7.8 },{ x: 6, y: 8.2 },{ x: 7, y: 8.6 },\n",
      "{ x: 8, y: 9.0 },{ x: 9, y: 9.3 },{ x: 10, y: 9.6 },{ x: 11, y: 9.9 },\n",
      "{ x: 12, y: 10.1 },{ x: 13, y: 10.4 },{ x: 14, y: 10.6 },{ x: 15, y: 10.9 },\n",
      "{ x: 16, y: 11.1 },{ x: 17, y: 11.4 },{ x: 18, y: 11.6 },{ x: 19, y: 11.8 },\n",
      "{ x: 20, y: 12.1 },{ x: 21, y: 12.3 },{ x: 22, y: 12.5 },{ x: 23, y: 12.8 },\n",
      "{ x: 24, y: 13.0 },{ x: 25, y: 13.3 },{ x: 26, y: 13.5 },{ x: 27, y: 13.7 },\n",
      "{ x: 28, y: 14.0 },{ x: 29, y: 14.2 },{ x: 30, y: 14.4 },{ x: 31, y: 14.7 },\n",
      "{ x: 32, y: 14.9 },{ x: 33, y: 15.1 },{ x: 34, y: 15.4 },{ x: 35, y: 15.6 },\n",
      "{ x: 36, y: 15.8 },{ x: 37, y: 16.0 },{ x: 38, y: 16.3 },{ x: 39, y: 16.5 },\n",
      "{ x: 40, y: 16.7 },{ x: 41, y: 16.9 },{ x: 42, y: 17.2 },\n",
      " ] \n",
      "\n",
      "const PesoGirls2 =\n",
      "[\n",
      "{ x: 0, y: 4.2 },{ x: 1, y: 5.5 },{ x: 2, y: 6.6 },{ x: 3, y: 7.5 },\n",
      "{ x: 4, y: 8.2 },{ x: 5, y: 8.8 },{ x: 6, y: 9.3 },{ x: 7, y: 9.8 },\n",
      "{ x: 8, y: 10.2 },{ x: 9, y: 10.5 },{ x: 10, y: 10.9 },{ x: 11, y: 11.2 },\n",
      "{ x: 12, y: 11.5 },{ x: 13, y: 11.8 },{ x: 14, y: 12.1 },{ x: 15, y: 12.4 },\n",
      "{ x: 16, y: 12.6 },{ x: 17, y: 12.9 },{ x: 18, y: 13.2 },{ x: 19, y: 13.5 },\n",
      "{ x: 20, y: 13.7 },{ x: 21, y: 14.0 },{ x: 22, y: 14.3 },{ x: 23, y: 14.6 },\n",
      "{ x: 24, y: 14.8 },{ x: 25, y: 15.1 },{ x: 26, y: 15.4 },{ x: 27, y: 15.7 },\n",
      "{ x: 28, y: 16.0 },{ x: 29, y: 16.2 },{ x: 30, y: 16.5 },{ x: 31, y: 16.8 },\n",
      "{ x: 32, y: 17.1 },{ x: 33, y: 17.3 },{ x: 34, y: 17.6 },{ x: 35, y: 17.9 },\n",
      "{ x: 36, y: 18.1 },{ x: 37, y: 18.4 },{ x: 38, y: 18.7 },{ x: 39, y: 19.0 },\n",
      "{ x: 40, y: 19.2 },{ x: 41, y: 19.5 },{ x: 42, y: 19.8 },\n",
      " ] \n",
      "\n",
      "const PesoGirls3 =\n",
      "[\n",
      "{ x: 0, y: 4.8 },{ x: 1, y: 6.2 },{ x: 2, y: 7.5 },{ x: 3, y: 8.5 },\n",
      "{ x: 4, y: 9.3 },{ x: 5, y: 10.0 },{ x: 6, y: 10.6 },{ x: 7, y: 11.1 },\n",
      "{ x: 8, y: 11.6 },{ x: 9, y: 12.0 },{ x: 10, y: 12.4 },{ x: 11, y: 12.8 },\n",
      "{ x: 12, y: 13.1 },{ x: 13, y: 13.5 },{ x: 14, y: 13.8 },{ x: 15, y: 14.1 },\n",
      "{ x: 16, y: 14.5 },{ x: 17, y: 14.8 },{ x: 18, y: 15.1 },{ x: 19, y: 15.4 },\n",
      "{ x: 20, y: 15.7 },{ x: 21, y: 16.0 },{ x: 22, y: 16.4 },{ x: 23, y: 16.7 },\n",
      "{ x: 24, y: 17.0 },{ x: 25, y: 17.3 },{ x: 26, y: 17.7 },{ x: 27, y: 18.0 },\n",
      "{ x: 28, y: 18.3 },{ x: 29, y: 18.7 },{ x: 30, y: 19.0 },{ x: 31, y: 19.3 },\n",
      "{ x: 32, y: 19.6 },{ x: 33, y: 20.0 },{ x: 34, y: 20.3 },{ x: 35, y: 20.6 },\n",
      "{ x: 36, y: 20.9 },{ x: 37, y: 21.3 },{ x: 38, y: 21.6 },{ x: 39, y: 22.0 },\n",
      "{ x: 40, y: 22.3 },{ x: 41, y: 22.7 },{ x: 42, y: 23.0 },\n",
      " ] \n",
      "\n"
     ]
    }
   ],
   "source": [
    "subs = ['Neg3', 'Neg2', 'Neg1', '0', '1', '2', '3']\n",
    "peso = 'Peso'; altura = 'Altura'; perimetro = 'Perimetro'; imc = 'Imc'\n",
    "\n",
    "vetor =[]\n",
    "for titulo in titulos:\n",
    "    vetor.append(dados[titulo].head(43).values)\n",
    "\n",
    "for i in range(7):\n",
    "    j=0\n",
    "    quebra=0\n",
    "    #Quando for meninos colocar Boys no lugar de Girls\n",
    "    print(\"const \"+peso+\"Girls\"+subs[i]+\" =\\n[\")\n",
    "    for j in range(43):\n",
    "        print(f\"{{ x: {j}, y: {vetor[i][j]} }},\", end='')\n",
    "        quebra+=1\n",
    "        if(quebra % 4 == 0):\n",
    "            print('')\n",
    "    print('\\n ] \\n')"
   ]
  }
 ],
 "metadata": {
  "kernelspec": {
   "display_name": "Python 3 (ipykernel)",
   "language": "python",
   "name": "python3"
  },
  "language_info": {
   "codemirror_mode": {
    "name": "ipython",
    "version": 3
   },
   "file_extension": ".py",
   "mimetype": "text/x-python",
   "name": "python",
   "nbconvert_exporter": "python",
   "pygments_lexer": "ipython3",
   "version": "3.9.7"
  }
 },
 "nbformat": 4,
 "nbformat_minor": 5
}
